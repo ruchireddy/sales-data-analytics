A starter notebook for EDA loading processed data and making a bar chart of sales by product.
